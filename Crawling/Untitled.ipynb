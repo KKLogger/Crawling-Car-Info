{
 "cells": [
  {
   "cell_type": "code",
   "execution_count": 2,
   "metadata": {},
   "outputs": [],
   "source": [
    "from selenium import webdriver\n",
    "from bs4 import BeautifulSoup as bs\n",
    "import pandas as pd\n",
    "import requests \n",
    "import json"
   ]
  },
  {
   "cell_type": "code",
   "execution_count": 7,
   "metadata": {},
   "outputs": [],
   "source": [
    "response = requests.get('https://www.kbchachacha.com/public/car/detail.kbc?carSeq=20831927')\n",
    "response\n",
    "normal = bs(response.text,'lxml')"
   ]
  },
  {
   "cell_type": "code",
   "execution_count": 10,
   "metadata": {},
   "outputs": [],
   "source": [
    "response = requests.get('https://www.kbchachacha.com/public/car/detail.kbc?carSeq=20480776')\n",
    "response\n",
    "lease1 = bs(response.text,'lxml')"
   ]
  },
  {
   "cell_type": "code",
   "execution_count": 11,
   "metadata": {},
   "outputs": [],
   "source": [
    "response = requests.get('https://www.kbchachacha.com/public/car/detail.kbc?carSeq=20505537')\n",
    "response\n",
    "lease2 = bs(response.text,'lxml')"
   ]
  },
  {
   "cell_type": "code",
   "execution_count": 21,
   "metadata": {},
   "outputs": [
    {
     "data": {
      "text/plain": [
       "'리스 이용 금융상담문의'"
      ]
     },
     "execution_count": 21,
     "metadata": {},
     "output_type": "execute_result"
    }
   ],
   "source": [
    "normal.find_all('div',{'class':'car-buy-debt-m'})[1].find('div').text\n",
    "#NORMAL_SALE"
   ]
  },
  {
   "cell_type": "code",
   "execution_count": 20,
   "metadata": {},
   "outputs": [
    {
     "data": {
      "text/plain": [
       "'리스 이용 시 월 납입 501,496원'"
      ]
     },
     "execution_count": 20,
     "metadata": {},
     "output_type": "execute_result"
    }
   ],
   "source": [
    "lease1.find_all('div',{'class':'car-buy-debt-m'})[1].find('div').text\n",
    "#LEASE_SALE"
   ]
  },
  {
   "cell_type": "code",
   "execution_count": 15,
   "metadata": {},
   "outputs": [
    {
     "data": {
      "text/plain": [
       "<div class=\"suc-price\">\n",
       "<strong>리스승계</strong>\n",
       "<div class=\"colum-price\">\n",
       "<div>\n",
       "<span>월리스료</span>\n",
       "<b>18만원</b>\n",
       "</div>\n",
       "<div>\n",
       "<span>인수비용</span>\n",
       "<b>1만원</b>\n",
       "</div>\n",
       "<div>\n",
       "<span>잔여개월</span>\n",
       "<b>60/60개월</b>\n",
       "</div>\n",
       "</div>\n",
       "</div>"
      ]
     },
     "execution_count": 15,
     "metadata": {},
     "output_type": "execute_result"
    }
   ],
   "source": [
    "lease2.find('div',{'class':'suc-price'})\n",
    "#LEASE_SALE"
   ]
  },
  {
   "cell_type": "code",
   "execution_count": 22,
   "metadata": {},
   "outputs": [
    {
     "data": {
      "text/plain": [
       "'리스 이용 금융상담문의'"
      ]
     },
     "execution_count": 22,
     "metadata": {},
     "output_type": "execute_result"
    }
   ],
   "source": [
    "lease2.find_all('div',{'class':'car-buy-debt-m'})[1].find('div').text\n",
    "#LEASE_SALE"
   ]
  },
  {
   "cell_type": "code",
   "execution_count": null,
   "metadata": {},
   "outputs": [],
   "source": []
  }
 ],
 "metadata": {
  "kernelspec": {
   "display_name": "crawling",
   "language": "python",
   "name": "crawling"
  },
  "language_info": {
   "codemirror_mode": {
    "name": "ipython",
    "version": 3
   },
   "file_extension": ".py",
   "mimetype": "text/x-python",
   "name": "python",
   "nbconvert_exporter": "python",
   "pygments_lexer": "ipython3",
   "version": "3.8.5"
  }
 },
 "nbformat": 4,
 "nbformat_minor": 4
}
