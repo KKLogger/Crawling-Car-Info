{
 "cells": [
  {
   "cell_type": "code",
   "execution_count": 1,
   "metadata": {},
   "outputs": [],
   "source": [
    "from selenium import webdriver\n",
    "from bs4 import BeautifulSoup as bs\n",
    "import pandas as pd\n",
    "import requests \n",
    "import json\n",
    "temp['ModifiedDate'] = 'null'"
   ]
  },
  {
   "cell_type": "code",
   "execution_count": 29,
   "metadata": {},
   "outputs": [],
   "source": [
    "response = requests.get('https://www.kbchachacha.com//public/car/detail.kbc?carSeq=10929161')\n",
    "\n",
    "soup = bs(img_res.text,'lxml')"
   ]
  },
  {
   "cell_type": "code",
   "execution_count": 30,
   "metadata": {},
   "outputs": [],
   "source": [
    "repair_items = ['Hood', 'FrontFenderLeft', 'FrontFenderRight', 'FrontDoorLeft', 'FrontDoorRight', 'RearDoorLeft', 'RearDoorRight', 'TrunkLead', 'RadiatorSupport', 'QuarterPanelLeft', 'QuarterPanelRight', 'RoofPanel', 'SideSillPanelLeft', 'SideSillPanelRight', 'FrontPanel', 'CrossMember', 'InsidePanelLeft', 'InsidePanelRight', 'RearSideMemberLeft',\n",
    "                    'RearSideMemberRight', 'FrontSideMemberLeft', 'FrontSideMemberRight', 'FrontWheelHouseLeft', 'FrontWheelHouseRight', 'RearWheelHouseLeft', 'RearWheelHouseRight',\n",
    "                    'PillarPanelFrontLeft', 'PillarPanelFrontRight', 'PillarPanelMiddleLeft', 'PillarPanelMiddleRight', 'PillarPanelRearLeft', 'PillarPanelRearRight', 'DashPanel',\n",
    "                    'noitem1', 'FloorPanel', 'noitem2', 'TrunkFloor', 'RearPanel', 'PackageTray']  # 1~39"
   ]
  },
  {
   "cell_type": "code",
   "execution_count": 26,
   "metadata": {},
   "outputs": [
    {
     "data": {
      "text/plain": [
       "['Wed,', '07', 'Oct', '2020', '03:32:02', 'GMT']"
      ]
     },
     "execution_count": 26,
     "metadata": {},
     "output_type": "execute_result"
    }
   ],
   "source": [
    "t_date = requests.get(img_src).headers['Last-Modified'].split(' ')"
   ]
  },
  {
   "cell_type": "code",
   "execution_count": 27,
   "metadata": {},
   "outputs": [
    {
     "name": "stdout",
     "output_type": "stream",
     "text": [
      "10\n"
     ]
    }
   ],
   "source": [
    "y = t_date[3]\n",
    "m = t_date[2]\n",
    "d = t_date[1]\n",
    "time = t_date[4]\n",
    "months = ['Jan','Feb','Mar','Apr','May','Jun','Jul','Aug','Sep','Oct','Nov','Dec']\n",
    "for i, month in enumerate(months):\n",
    "    if month == m :\n",
    "        m=i+1\n",
    "        break\n",
    "print(m)\n"
   ]
  },
  {
   "cell_type": "code",
   "execution_count": null,
   "metadata": {},
   "outputs": [],
   "source": []
  }
 ],
 "metadata": {
  "kernelspec": {
   "display_name": "crawling",
   "language": "python",
   "name": "crawling"
  },
  "language_info": {
   "codemirror_mode": {
    "name": "ipython",
    "version": 3
   },
   "file_extension": ".py",
   "mimetype": "text/x-python",
   "name": "python",
   "nbconvert_exporter": "python",
   "pygments_lexer": "ipython3",
   "version": "3.8.5"
  }
 },
 "nbformat": 4,
 "nbformat_minor": 4
}
