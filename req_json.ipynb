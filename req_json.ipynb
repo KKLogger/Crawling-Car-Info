{
 "cells": [
  {
   "cell_type": "code",
   "execution_count": 8,
   "metadata": {},
   "outputs": [
    {
     "data": {
      "text/plain": [
       "<Response [200]>"
      ]
     },
     "execution_count": 8,
     "metadata": {},
     "output_type": "execute_result"
    }
   ],
   "source": [
    "import requests as req\n",
    "from bs4 import BeautifulSoup as bs\n",
    "headers = {\n",
    "    'Accept': 'text/html,application/xhtml+xml,application/xml;q=0.9,image/avif,image/webp,image/apng,*/*;q=0.8,application/signed-exchange;v=b3;q=0.9',\n",
    "    'Accept-Encoding': 'gzip, deflate, br',\n",
    "    'Accept-Language': 'ko-KR,ko;q=0.9,en-US;q=0.8,en;q=0.7',\n",
    "    'Cache-Control': 'no-cache',\n",
    "    'Connection': 'keep-alive',\n",
    "    'Content-Length': '42',\n",
    "    'Content-Type': 'application/x-www-form-urlencoded',\n",
    "    'Host': 'www.kbchachacha.com',\n",
    "    'Origin': 'https://www.kbchachacha.com',\n",
    "    'Pragma': 'no-cache',\n",
    "    \n",
    "    'Sec-Fetch-Dest': 'iframe',\n",
    "    'Sec-Fetch-Mode': 'navigate',\n",
    "    'Sec-Fetch-Site': 'same-origin',\n",
    "    'Sec-Fetch-User': '?1',\n",
    "    'Upgrade-Insecure-Requests': '1',\n",
    "    'User-Agent': 'Mozilla/5.0 (Windows NT 10.0; Win64; x64) AppleWebKit/537.36 (KHTML, like Gecko) Chrome/86.0.4240.75 Safari/537.36',\n",
    "    }\n",
    "data = {\n",
    "    'layerId': 'layerCarOptionView',\n",
    "    'carSeq': '20765641'\n",
    "}\n",
    "res = req.post('https://www.kbchachacha.com/public/layer/car/option/list.kbc',headers=headers, data = data)\n",
    "res"
   ]
  },
  {
   "cell_type": "code",
   "execution_count": 19,
   "metadata": {},
   "outputs": [
    {
     "data": {
      "text/plain": [
       "['100100',\n",
       " '100120',\n",
       " '100130',\n",
       " '200100',\n",
       " '200110',\n",
       " '200140',\n",
       " '300100',\n",
       " '300110',\n",
       " '300120',\n",
       " '400100',\n",
       " '400120',\n",
       " '500100',\n",
       " '700310']"
      ]
     },
     "execution_count": 19,
     "metadata": {},
     "output_type": "execute_result"
    }
   ],
   "source": [
    "soup = bs(res.text,'lxml')\n",
    "option_codes = soup.find('input',{'id':'carOption'})['value'].split(',')\n",
    "option_codes"
   ]
  },
  {
   "cell_type": "code",
   "execution_count": 37,
   "metadata": {},
   "outputs": [
    {
     "name": "stdout",
     "output_type": "stream",
     "text": [
      "100130\n",
      "100140\n",
      "200100\n",
      "200110\n",
      "200120\n",
      "200130\n",
      "200140\n",
      "700100\n",
      "700110\n",
      "700260\n",
      "700120\n",
      "700130\n",
      "700140\n",
      "100100\n",
      "100110\n",
      "300100\n",
      "300110\n",
      "300120\n",
      "300130\n",
      "300140\n",
      "300150\n",
      "300160\n",
      "300170\n",
      "300180\n",
      "300190\n",
      "500140\n",
      "700150\n",
      "700160\n",
      "700170\n",
      "700180\n",
      "700190\n",
      "700200\n",
      "700210\n",
      "100120\n",
      "100170\n",
      "400100\n",
      "400110\n",
      "400120\n",
      "400130\n",
      "400140\n",
      "400150\n",
      "400160\n",
      "400170\n",
      "400180\n",
      "400190\n",
      "400200\n",
      "400210\n",
      "700220\n",
      "700230\n",
      "700240\n",
      "700250\n",
      "100150\n",
      "500100\n",
      "500110\n",
      "500120\n",
      "500130\n",
      "500150\n",
      "500160\n",
      "500170\n",
      "500180\n",
      "500190\n",
      "500200\n",
      "500210\n",
      "500220\n",
      "500230\n",
      "700280\n",
      "700290\n",
      "100160\n",
      "600100\n",
      "600110\n",
      "600120\n",
      "600130\n",
      "600140\n",
      "600150\n",
      "600160\n",
      "600170\n",
      "600180\n",
      "700300\n",
      "700310\n",
      "700320\n"
     ]
    }
   ],
   "source": [
    "import json\n",
    "res = req.post('https://www.kbchachacha.com/public/car/option/code/list.json')\n",
    "json_datas = json.loads(res.text)\n",
    "json_datas = json_datas['optionList']\n",
    "for json_data in json_datas:\n",
    "    print(json_data['optionCode'])"
   ]
  },
  {
   "cell_type": "code",
   "execution_count": 32,
   "metadata": {},
   "outputs": [
    {
     "name": "stdout",
     "output_type": "stream",
     "text": [
      "optionList\n",
      "IMAGE_HOST\n"
     ]
    }
   ],
   "source": []
  },
  {
   "cell_type": "code",
   "execution_count": null,
   "metadata": {},
   "outputs": [],
   "source": [
    "import requests as req\n",
    "from bs4 import BeautifulSoup as bs\n",
    "headers = {\n",
    "    'Accept': 'text/html,application/xhtml+xml,application/xml;q=0.9,image/avif,image/webp,image/apng,*/*;q=0.8,application/signed-exchange;v=b3;q=0.9',\n",
    "    'Accept-Encoding': 'gzip, deflate, br',\n",
    "    'Accept-Language': 'ko-KR,ko;q=0.9,en-US;q=0.8,en;q=0.7',\n",
    "    'Cache-Control': 'no-cache',\n",
    "    'Connection': 'keep-alive',\n",
    "    'Content-Length': '42',\n",
    "    'Content-Type': 'application/x-www-form-urlencoded',\n",
    "    'Host': 'www.kbchachacha.com',\n",
    "    'Origin': 'https://www.kbchachacha.com',\n",
    "    'Referer': 'https://www.kbchachacha.com/public/search/main.kbc',\n",
    "    'Pragma': 'no-cache',\n",
    "    'Sec-Fetch-Dest': 'iframe',\n",
    "    'Sec-Fetch-Mode': 'navigate',\n",
    "    'Sec-Fetch-Site': 'same-origin',\n",
    "    'Sec-Fetch-User': '?1',\n",
    "    'Upgrade-Insecure-Requests': '1',\n",
    "    'User-Agent': 'Mozilla/5.0 (Windows NT 10.0; Win64; x64) AppleWebKit/537.36 (KHTML, like Gecko) Chrome/86.0.4240.75 Safari/537.36',\n",
    "    }\n",
    "\n",
    "res = req.get('https://www.kbchachacha.com/public/car/detail.kbc?carSeq=20752233',headers=headers)\n",
    "res"
   ]
  },
  {
   "cell_type": "code",
   "execution_count": null,
   "metadata": {},
   "outputs": [],
   "source": [
    "res"
   ]
  },
  {
   "cell_type": "code",
   "execution_count": null,
   "metadata": {},
   "outputs": [],
   "source": []
  }
 ],
 "metadata": {
  "kernelspec": {
   "display_name": "Crawling",
   "language": "python",
   "name": "crawling"
  },
  "language_info": {
   "codemirror_mode": {
    "name": "ipython",
    "version": 3
   },
   "file_extension": ".py",
   "mimetype": "text/x-python",
   "name": "python",
   "nbconvert_exporter": "python",
   "pygments_lexer": "ipython3",
   "version": "3.8.6"
  }
 },
 "nbformat": 4,
 "nbformat_minor": 4
}
